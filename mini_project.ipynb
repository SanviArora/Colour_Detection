{
 "cells": [
  {
   "cell_type": "code",
   "execution_count": 1,
   "metadata": {},
   "outputs": [
    {
     "name": "stdout",
     "output_type": "stream",
     "text": [
      "Error: The image path 'C:\\Users\\Lenovo\\Desktop\\image1.jpg' does not exist.\n"
     ]
    },
    {
     "ename": "SystemExit",
     "evalue": "",
     "output_type": "error",
     "traceback": [
      "An exception has occurred, use %tb to see the full traceback.\n",
      "\u001b[1;31mSystemExit\u001b[0m\n"
     ]
    },
    {
     "name": "stderr",
     "output_type": "stream",
     "text": [
      "c:\\Users\\Lenovo\\anaconda3\\lib\\site-packages\\IPython\\core\\interactiveshell.py:3465: UserWarning: To exit: use 'exit', 'quit', or Ctrl-D.\n",
      "  warn(\"To exit: use 'exit', 'quit', or Ctrl-D.\", stacklevel=1)\n"
     ]
    }
   ],
   "source": [
    "import cv2\n",
    "import pandas as pd\n",
    "import sys\n",
    "import os\n",
    "\n",
    "# Provide an image path directly for interactive environments\n",
    "img_path = 'C:\\\\Users\\\\Lenovo\\\\Desktop\\\\image1.jpg'  # Replace with your actual image path\n",
    "\n",
    "# Check if the image file exists\n",
    "if not os.path.exists(img_path):\n",
    "    print(f\"Error: The image path '{img_path}' does not exist.\")\n",
    "    sys.exit()\n",
    "\n",
    "# Reading the image with OpenCV\n",
    "img = cv2.imread(img_path)\n",
    "\n",
    "# Check if the image is loaded properly\n",
    "if img is None or img.size == 0:\n",
    "    print(f\"Error: Could not load the image from the path '{img_path}'.\")\n",
    "    sys.exit()\n",
    "\n",
    "# Reading CSV file with pandas and assigning names to each column\n",
    "index = [\"color\", \"color_name\", \"hex\", \"R\", \"G\", \"B\"]\n",
    "try:\n",
    "    csv = pd.read_csv('C:\\\\Users\\\\Lenovo\\\\Downloads\\\\colors.csv', names=index, header=None)\n",
    "except FileNotFoundError:\n",
    "    print(\"Error: 'colors.csv' file not found.\")\n",
    "    sys.exit()\n",
    "\n",
    "# Global variables to store color and coordinates when a double-click is made\n",
    "clicked = False\n",
    "r = g = b = xpos = ypos = 0\n",
    "\n",
    "# Function to capture mouse events\n",
    "def draw_function(event, x, y, flags, param):\n",
    "    global b, g, r, xpos, ypos, clicked\n",
    "    if event == cv2.EVENT_LBUTTONDBLCLK:\n",
    "        clicked = True\n",
    "        xpos = x\n",
    "        ypos = y\n",
    "        b, g, r = img[y, x]\n",
    "        b = int(b)\n",
    "        g = int(g)\n",
    "        r = int(r)\n",
    "\n",
    "# Function to get the closest color name by comparing RGB values from the CSV file\n",
    "def getColorName(R, G, B):\n",
    "    minimum = 10000\n",
    "    cname = \"Unknown\"\n",
    "    for i in range(len(csv)):\n",
    "        d = abs(R - int(csv.loc[i, \"R\"])) + abs(G - int(csv.loc[i, \"G\"])) + abs(B - int(csv.loc[i, \"B\"]))\n",
    "        if d <= minimum:\n",
    "            minimum = d\n",
    "            cname = csv.loc[i, \"color_name\"]\n",
    "    return cname\n",
    "\n",
    "# Setting up the window and mouse callback\n",
    "cv2.namedWindow('image')\n",
    "cv2.setMouseCallback('image', draw_function)\n",
    "\n",
    "# Main loop to display the image and respond to clicks\n",
    "while True:\n",
    "    cv2.imshow(\"image\", img)\n",
    "    \n",
    "    if clicked:\n",
    "        # Draw a filled rectangle to display the color name and RGB values\n",
    "        cv2.rectangle(img, (20, 20), (750, 60), (b, g, r), -1)\n",
    "        \n",
    "        # Creating text string to display the color name and RGB values\n",
    "        text = getColorName(r, g, b) + f' R={r} G={g} B={b}'\n",
    "        \n",
    "        # Display the text on the image\n",
    "        cv2.putText(img, text, (50, 50), 2, 0.8, (255, 255, 255), 2, cv2.LINE_AA)\n",
    "        \n",
    "        # For very light colors, display text in black\n",
    "        if r + g + b >= 600:\n",
    "            cv2.putText(img, text, (50, 50), 2, 0.8, (0, 0, 0), 2, cv2.LINE_AA)\n",
    "        \n",
    "        clicked = False\n",
    "\n",
    "    # Break the loop when the user presses 'esc'\n",
    "    if cv2.waitKey(20) & 0xFF == 27:\n",
    "        break\n",
    "\n",
    "# Destroy all windows when the loop ends\n",
    "cv2.destroyAllWindows()\n"
   ]
  }
 ],
 "metadata": {
  "kernelspec": {
   "display_name": "base",
   "language": "python",
   "name": "python3"
  },
  "language_info": {
   "codemirror_mode": {
    "name": "ipython",
    "version": 3
   },
   "file_extension": ".py",
   "mimetype": "text/x-python",
   "name": "python",
   "nbconvert_exporter": "python",
   "pygments_lexer": "ipython3",
   "version": "3.9.13"
  }
 },
 "nbformat": 4,
 "nbformat_minor": 2
}
